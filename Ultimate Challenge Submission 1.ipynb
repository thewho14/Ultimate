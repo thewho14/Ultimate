{
 "cells": [
  {
   "cell_type": "code",
   "execution_count": 1,
   "metadata": {
    "collapsed": true
   },
   "outputs": [],
   "source": [
    "import pandas as pd\n",
    "import numpy as np\n",
    "import matplotlib.pyplot as plt\n",
    "import seaborn as sns\n",
    "sns.set()\n",
    "%matplotlib inline"
   ]
  },
  {
   "cell_type": "code",
   "execution_count": 2,
   "metadata": {},
   "outputs": [
    {
     "data": {
      "text/html": [
       "<div>\n",
       "<style>\n",
       "    .dataframe thead tr:only-child th {\n",
       "        text-align: right;\n",
       "    }\n",
       "\n",
       "    .dataframe thead th {\n",
       "        text-align: left;\n",
       "    }\n",
       "\n",
       "    .dataframe tbody tr th {\n",
       "        vertical-align: top;\n",
       "    }\n",
       "</style>\n",
       "<table border=\"1\" class=\"dataframe\">\n",
       "  <thead>\n",
       "    <tr style=\"text-align: right;\">\n",
       "      <th></th>\n",
       "      <th>login_time</th>\n",
       "    </tr>\n",
       "  </thead>\n",
       "  <tbody>\n",
       "    <tr>\n",
       "      <th>0</th>\n",
       "      <td>1970-01-01 20:13:18</td>\n",
       "    </tr>\n",
       "    <tr>\n",
       "      <th>1</th>\n",
       "      <td>1970-01-01 20:16:10</td>\n",
       "    </tr>\n",
       "    <tr>\n",
       "      <th>2</th>\n",
       "      <td>1970-01-01 20:16:37</td>\n",
       "    </tr>\n",
       "    <tr>\n",
       "      <th>3</th>\n",
       "      <td>1970-01-01 20:16:36</td>\n",
       "    </tr>\n",
       "    <tr>\n",
       "      <th>4</th>\n",
       "      <td>1970-01-01 20:26:21</td>\n",
       "    </tr>\n",
       "  </tbody>\n",
       "</table>\n",
       "</div>"
      ],
      "text/plain": [
       "           login_time\n",
       "0 1970-01-01 20:13:18\n",
       "1 1970-01-01 20:16:10\n",
       "2 1970-01-01 20:16:37\n",
       "3 1970-01-01 20:16:36\n",
       "4 1970-01-01 20:26:21"
      ]
     },
     "execution_count": 2,
     "metadata": {},
     "output_type": "execute_result"
    }
   ],
   "source": [
    "df = pd.read_json('logins.json')\n",
    "df.head()"
   ]
  },
  {
   "cell_type": "code",
   "execution_count": 3,
   "metadata": {
    "collapsed": true
   },
   "outputs": [],
   "source": [
    "dt = pd.to_datetime(df.login_time.values)"
   ]
  },
  {
   "cell_type": "code",
   "execution_count": 4,
   "metadata": {},
   "outputs": [
    {
     "data": {
      "text/plain": [
       "DatetimeIndex(['1970-01-01 20:13:18', '1970-01-01 20:16:10',\n",
       "               '1970-01-01 20:16:37', '1970-01-01 20:16:36',\n",
       "               '1970-01-01 20:26:21', '1970-01-01 20:21:41',\n",
       "               '1970-01-01 20:12:16', '1970-01-01 20:35:47',\n",
       "               '1970-01-01 20:35:38', '1970-01-01 20:47:52',\n",
       "               ...\n",
       "               '1970-04-13 18:36:53', '1970-04-13 18:40:31',\n",
       "               '1970-04-13 18:46:06', '1970-04-13 18:40:40',\n",
       "               '1970-04-13 18:48:52', '1970-04-13 18:50:19',\n",
       "               '1970-04-13 18:43:56', '1970-04-13 18:54:02',\n",
       "               '1970-04-13 18:57:38', '1970-04-13 18:54:23'],\n",
       "              dtype='datetime64[ns]', length=93142, freq=None)"
      ]
     },
     "execution_count": 4,
     "metadata": {},
     "output_type": "execute_result"
    }
   ],
   "source": [
    "dt"
   ]
  },
  {
   "cell_type": "code",
   "execution_count": 5,
   "metadata": {
    "collapsed": true
   },
   "outputs": [],
   "source": [
    "df = pd.Series(index=dt,data=1)\n",
    "#df.drop('login_time', axis = 1,inplace=True)"
   ]
  },
  {
   "cell_type": "code",
   "execution_count": 6,
   "metadata": {},
   "outputs": [
    {
     "data": {
      "text/plain": [
       "1970-01-01 20:13:18    1\n",
       "1970-01-01 20:16:10    1\n",
       "1970-01-01 20:16:37    1\n",
       "1970-01-01 20:16:36    1\n",
       "1970-01-01 20:26:21    1\n",
       "dtype: int64"
      ]
     },
     "execution_count": 6,
     "metadata": {},
     "output_type": "execute_result"
    }
   ],
   "source": [
    "df.head()"
   ]
  },
  {
   "cell_type": "code",
   "execution_count": 7,
   "metadata": {},
   "outputs": [
    {
     "data": {
      "text/plain": [
       "1970-04-13 18:36:53    1\n",
       "1970-04-13 18:40:31    1\n",
       "1970-04-13 18:46:06    1\n",
       "1970-04-13 18:40:40    1\n",
       "1970-04-13 18:48:52    1\n",
       "1970-04-13 18:50:19    1\n",
       "1970-04-13 18:43:56    1\n",
       "1970-04-13 18:54:02    1\n",
       "1970-04-13 18:57:38    1\n",
       "1970-04-13 18:54:23    1\n",
       "dtype: int64"
      ]
     },
     "execution_count": 7,
     "metadata": {},
     "output_type": "execute_result"
    }
   ],
   "source": [
    "df.tail(10)"
   ]
  },
  {
   "cell_type": "code",
   "execution_count": 8,
   "metadata": {},
   "outputs": [
    {
     "data": {
      "text/plain": [
       "0"
      ]
     },
     "execution_count": 8,
     "metadata": {},
     "output_type": "execute_result"
    }
   ],
   "source": [
    "df.isnull().sum()"
   ]
  },
  {
   "cell_type": "code",
   "execution_count": 9,
   "metadata": {},
   "outputs": [
    {
     "data": {
      "text/plain": [
       "1970-01-01 20:00:00    2.0\n",
       "1970-01-01 20:15:00    6.0\n",
       "1970-01-01 20:30:00    9.0\n",
       "1970-01-01 20:45:00    7.0\n",
       "1970-01-01 21:00:00    1.0\n",
       "Freq: 15T, dtype: float64"
      ]
     },
     "execution_count": 9,
     "metadata": {},
     "output_type": "execute_result"
    }
   ],
   "source": [
    "dx = df.resample('15T').sum()\n",
    "dx.head()"
   ]
  },
  {
   "cell_type": "code",
   "execution_count": 10,
   "metadata": {
    "scrolled": true
   },
   "outputs": [
    {
     "data": {
      "text/plain": [
       "1970-01-01 21:30:00   NaN\n",
       "1970-01-02 04:15:00   NaN\n",
       "1970-01-02 06:15:00   NaN\n",
       "1970-01-02 18:00:00   NaN\n",
       "1970-01-03 08:45:00   NaN\n",
       "1970-01-03 10:00:00   NaN\n",
       "1970-01-03 10:15:00   NaN\n",
       "1970-01-04 07:15:00   NaN\n",
       "1970-01-05 06:30:00   NaN\n",
       "1970-01-05 07:00:00   NaN\n",
       "1970-01-05 08:00:00   NaN\n",
       "1970-01-05 19:30:00   NaN\n",
       "1970-01-06 05:15:00   NaN\n",
       "1970-01-06 06:45:00   NaN\n",
       "1970-01-06 07:30:00   NaN\n",
       "1970-01-06 16:00:00   NaN\n",
       "1970-01-06 19:00:00   NaN\n",
       "1970-01-07 09:00:00   NaN\n",
       "1970-01-08 05:00:00   NaN\n",
       "1970-01-08 05:30:00   NaN\n",
       "1970-01-08 06:00:00   NaN\n",
       "1970-01-08 06:30:00   NaN\n",
       "1970-01-08 15:00:00   NaN\n",
       "1970-01-08 15:15:00   NaN\n",
       "1970-01-08 15:30:00   NaN\n",
       "1970-01-08 15:45:00   NaN\n",
       "1970-01-08 16:00:00   NaN\n",
       "1970-01-08 17:00:00   NaN\n",
       "1970-01-08 17:15:00   NaN\n",
       "1970-01-08 17:30:00   NaN\n",
       "                       ..\n",
       "1970-04-06 06:00:00   NaN\n",
       "1970-04-06 07:00:00   NaN\n",
       "1970-04-06 07:15:00   NaN\n",
       "1970-04-07 05:00:00   NaN\n",
       "1970-04-07 05:15:00   NaN\n",
       "1970-04-07 06:00:00   NaN\n",
       "1970-04-07 06:30:00   NaN\n",
       "1970-04-07 06:45:00   NaN\n",
       "1970-04-07 07:00:00   NaN\n",
       "1970-04-07 07:45:00   NaN\n",
       "1970-04-07 08:00:00   NaN\n",
       "1970-04-07 16:30:00   NaN\n",
       "1970-04-08 07:00:00   NaN\n",
       "1970-04-08 07:45:00   NaN\n",
       "1970-04-08 08:45:00   NaN\n",
       "1970-04-08 15:45:00   NaN\n",
       "1970-04-09 05:15:00   NaN\n",
       "1970-04-09 05:30:00   NaN\n",
       "1970-04-09 06:00:00   NaN\n",
       "1970-04-09 06:30:00   NaN\n",
       "1970-04-09 08:15:00   NaN\n",
       "1970-04-10 06:45:00   NaN\n",
       "1970-04-10 07:15:00   NaN\n",
       "1970-04-10 08:45:00   NaN\n",
       "1970-04-11 08:30:00   NaN\n",
       "1970-04-11 08:45:00   NaN\n",
       "1970-04-13 05:30:00   NaN\n",
       "1970-04-13 06:00:00   NaN\n",
       "1970-04-13 06:30:00   NaN\n",
       "1970-04-13 07:00:00   NaN\n",
       "Length: 407, dtype: float64"
      ]
     },
     "execution_count": 10,
     "metadata": {},
     "output_type": "execute_result"
    }
   ],
   "source": [
    "dx[dx.isnull()]\n",
    "#Need to find the origin of these NaN's"
   ]
  },
  {
   "cell_type": "code",
   "execution_count": 11,
   "metadata": {},
   "outputs": [
    {
     "name": "stdout",
     "output_type": "stream",
     "text": [
      "0 0\n"
     ]
    }
   ],
   "source": [
    "print df['1970-01-01 21:30:00':'1970-01-01 21:45:00'].values.sum(), df['1970-01-02 04:15:00':'1970-01-02 4:30:00'].sum()"
   ]
  },
  {
   "cell_type": "markdown",
   "metadata": {},
   "source": [
    "The NaN's seem to result from time intervals with no logins.  These are better represented as 0's."
   ]
  },
  {
   "cell_type": "code",
   "execution_count": 12,
   "metadata": {
    "collapsed": true
   },
   "outputs": [],
   "source": [
    "dx = dx.fillna(0)"
   ]
  },
  {
   "cell_type": "markdown",
   "metadata": {},
   "source": [
    "The data does not start and end at the same time. Need to account for this in regards to daily cycles"
   ]
  },
  {
   "cell_type": "code",
   "execution_count": 13,
   "metadata": {},
   "outputs": [
    {
     "data": {
      "text/plain": [
       "array([ 0,  1,  2,  3,  4,  5,  6,  7,  8,  9, 10, 11, 12, 13, 14, 15, 16,\n",
       "       17, 18, 19, 20, 21, 22, 23])"
      ]
     },
     "execution_count": 13,
     "metadata": {},
     "output_type": "execute_result"
    }
   ],
   "source": [
    "np.arange(0,24)"
   ]
  },
  {
   "cell_type": "code",
   "execution_count": 14,
   "metadata": {
    "scrolled": true
   },
   "outputs": [
    {
     "data": {
      "text/plain": [
       "<matplotlib.axes._subplots.AxesSubplot at 0xcf645f8>"
      ]
     },
     "execution_count": 14,
     "metadata": {},
     "output_type": "execute_result"
    },
    {
     "data": {
      "image/png": "[encoded data removed]",
      "text/plain": [
       "<matplotlib.figure.Figure at 0xbc71b38>"
      ]
     },
     "metadata": {},
     "output_type": "display_data"
    }
   ],
   "source": [
    "#how to make xticks hourly?\n",
    "avg_15 = dx.groupby(dx.index.time).mean()\n",
    "sns.pointplot(avg_15.index, avg_15.values)"
   ]
  },
  {
   "cell_type": "code",
   "execution_count": 15,
   "metadata": {
    "scrolled": true
   },
   "outputs": [
    {
     "data": {
      "text/plain": [
       "[<matplotlib.lines.Line2D at 0xc5d3a58>]"
      ]
     },
     "execution_count": 15,
     "metadata": {},
     "output_type": "execute_result"
    },
    {
     "data": {
      "image/png": "[encoded data removed]",
      "text/plain": [
       "<matplotlib.figure.Figure at 0xc5ba0f0>"
      ]
     },
     "metadata": {},
     "output_type": "display_data"
    }
   ],
   "source": [
    "plt.xticks(rotation=90)\n",
    "plt.plot(dx['1970-01-01'])"
   ]
  },
  {
   "cell_type": "code",
   "execution_count": 25,
   "metadata": {
    "scrolled": true
   },
   "outputs": [],
   "source": [
    "fix = dx.resample('D').sum()"
   ]
  },
  {
   "cell_type": "code",
   "execution_count": 27,
   "metadata": {},
   "outputs": [
    {
     "data": {
      "text/plain": [
       "<matplotlib.axes._subplots.AxesSubplot at 0x159c3390>"
      ]
     },
     "execution_count": 27,
     "metadata": {},
     "output_type": "execute_result"
    },
    {
     "data": {
      "image/png": "[encoded data removed]",
      "text/plain": [
       "<matplotlib.figure.Figure at 0x15937ef0>"
      ]
     },
     "metadata": {},
     "output_type": "display_data"
    }
   ],
   "source": [
    "fix.groupby(fix.index.dayofweek).mean().plot(kind='bar')\n",
    "fix"
   ]
  },
  {
   "cell_type": "code",
   "execution_count": 22,
   "metadata": {
    "scrolled": true
   },
   "outputs": [
    {
     "data": {
      "text/plain": [
       "1970-01-05 00:00:00     8.0\n",
       "1970-01-05 00:15:00     3.0\n",
       "1970-01-05 00:30:00     7.0\n",
       "1970-01-05 00:45:00     4.0\n",
       "1970-01-05 01:00:00     7.0\n",
       "1970-01-05 01:15:00     5.0\n",
       "1970-01-05 01:30:00     7.0\n",
       "1970-01-05 01:45:00     5.0\n",
       "1970-01-05 02:00:00     5.0\n",
       "1970-01-05 02:15:00     1.0\n",
       "1970-01-05 02:30:00     1.0\n",
       "1970-01-05 02:45:00     4.0\n",
       "1970-01-05 03:00:00     3.0\n",
       "1970-01-05 03:15:00     2.0\n",
       "1970-01-05 03:30:00     2.0\n",
       "1970-01-05 03:45:00     7.0\n",
       "1970-01-05 04:00:00     2.0\n",
       "1970-01-05 04:15:00     2.0\n",
       "1970-01-05 04:30:00     2.0\n",
       "1970-01-05 04:45:00     6.0\n",
       "1970-01-05 05:00:00     6.0\n",
       "1970-01-05 05:15:00     5.0\n",
       "1970-01-05 05:30:00     2.0\n",
       "1970-01-05 05:45:00     1.0\n",
       "1970-01-05 06:00:00     1.0\n",
       "1970-01-05 06:15:00     1.0\n",
       "1970-01-05 06:30:00     0.0\n",
       "1970-01-05 06:45:00     2.0\n",
       "1970-01-05 07:00:00     0.0\n",
       "1970-01-05 07:15:00     1.0\n",
       "                       ... \n",
       "1970-04-13 11:30:00    13.0\n",
       "1970-04-13 11:45:00     7.0\n",
       "1970-04-13 12:00:00     6.0\n",
       "1970-04-13 12:15:00    11.0\n",
       "1970-04-13 12:30:00     8.0\n",
       "1970-04-13 12:45:00    11.0\n",
       "1970-04-13 13:00:00     5.0\n",
       "1970-04-13 13:15:00     4.0\n",
       "1970-04-13 13:30:00     6.0\n",
       "1970-04-13 13:45:00     5.0\n",
       "1970-04-13 14:00:00     4.0\n",
       "1970-04-13 14:15:00     8.0\n",
       "1970-04-13 14:30:00     8.0\n",
       "1970-04-13 14:45:00    12.0\n",
       "1970-04-13 15:00:00    10.0\n",
       "1970-04-13 15:15:00     4.0\n",
       "1970-04-13 15:30:00     3.0\n",
       "1970-04-13 15:45:00     2.0\n",
       "1970-04-13 16:00:00     7.0\n",
       "1970-04-13 16:15:00     8.0\n",
       "1970-04-13 16:30:00     4.0\n",
       "1970-04-13 16:45:00     3.0\n",
       "1970-04-13 17:00:00     5.0\n",
       "1970-04-13 17:15:00     3.0\n",
       "1970-04-13 17:30:00     9.0\n",
       "1970-04-13 17:45:00     5.0\n",
       "1970-04-13 18:00:00     5.0\n",
       "1970-04-13 18:15:00     2.0\n",
       "1970-04-13 18:30:00     7.0\n",
       "1970-04-13 18:45:00     6.0\n",
       "Length: 1420, dtype: float64"
      ]
     },
     "execution_count": 22,
     "metadata": {},
     "output_type": "execute_result"
    }
   ],
   "source": [
    "dx[dx.index.dayofweek==0]"
   ]
  },
  {
   "cell_type": "code",
   "execution_count": 17,
   "metadata": {
    "collapsed": true,
    "scrolled": true
   },
   "outputs": [],
   "source": [
    "dr = pd.DataFrame({'Counts':dx.values,'Day of Week':dx.index.dayofweek}, index = dx.index)\n",
    "dr.loc[:,'Day of Week'] = dr.loc[:,'Day of Week'].map({0:'Monday',1:'Tuesday',2:'Wednesday',3:'Thursday', 4:'Friday',5:'Saturday',6:'Sunday'})"
   ]
  },
  {
   "cell_type": "code",
   "execution_count": 18,
   "metadata": {
    "scrolled": true
   },
   "outputs": [
    {
     "data": {
      "text/html": [
       "<div>\n",
       "<style>\n",
       "    .dataframe thead tr:only-child th {\n",
       "        text-align: right;\n",
       "    }\n",
       "\n",
       "    .dataframe thead th {\n",
       "        text-align: left;\n",
       "    }\n",
       "\n",
       "    .dataframe tbody tr th {\n",
       "        vertical-align: top;\n",
       "    }\n",
       "</style>\n",
       "<table border=\"1\" class=\"dataframe\">\n",
       "  <thead>\n",
       "    <tr style=\"text-align: right;\">\n",
       "      <th></th>\n",
       "      <th>Counts</th>\n",
       "      <th>Day of Week</th>\n",
       "    </tr>\n",
       "  </thead>\n",
       "  <tbody>\n",
       "    <tr>\n",
       "      <th>1970-01-01 20:00:00</th>\n",
       "      <td>2.0</td>\n",
       "      <td>Thursday</td>\n",
       "    </tr>\n",
       "    <tr>\n",
       "      <th>1970-01-01 20:15:00</th>\n",
       "      <td>6.0</td>\n",
       "      <td>Thursday</td>\n",
       "    </tr>\n",
       "    <tr>\n",
       "      <th>1970-01-01 20:30:00</th>\n",
       "      <td>9.0</td>\n",
       "      <td>Thursday</td>\n",
       "    </tr>\n",
       "    <tr>\n",
       "      <th>1970-01-01 20:45:00</th>\n",
       "      <td>7.0</td>\n",
       "      <td>Thursday</td>\n",
       "    </tr>\n",
       "    <tr>\n",
       "      <th>1970-01-01 21:00:00</th>\n",
       "      <td>1.0</td>\n",
       "      <td>Thursday</td>\n",
       "    </tr>\n",
       "    <tr>\n",
       "      <th>1970-01-01 21:15:00</th>\n",
       "      <td>4.0</td>\n",
       "      <td>Thursday</td>\n",
       "    </tr>\n",
       "    <tr>\n",
       "      <th>1970-01-01 21:30:00</th>\n",
       "      <td>0.0</td>\n",
       "      <td>Thursday</td>\n",
       "    </tr>\n",
       "    <tr>\n",
       "      <th>1970-01-01 21:45:00</th>\n",
       "      <td>4.0</td>\n",
       "      <td>Thursday</td>\n",
       "    </tr>\n",
       "    <tr>\n",
       "      <th>1970-01-01 22:00:00</th>\n",
       "      <td>9.0</td>\n",
       "      <td>Thursday</td>\n",
       "    </tr>\n",
       "    <tr>\n",
       "      <th>1970-01-01 22:15:00</th>\n",
       "      <td>8.0</td>\n",
       "      <td>Thursday</td>\n",
       "    </tr>\n",
       "    <tr>\n",
       "      <th>1970-01-01 22:30:00</th>\n",
       "      <td>1.0</td>\n",
       "      <td>Thursday</td>\n",
       "    </tr>\n",
       "    <tr>\n",
       "      <th>1970-01-01 22:45:00</th>\n",
       "      <td>3.0</td>\n",
       "      <td>Thursday</td>\n",
       "    </tr>\n",
       "    <tr>\n",
       "      <th>1970-01-01 23:00:00</th>\n",
       "      <td>16.0</td>\n",
       "      <td>Thursday</td>\n",
       "    </tr>\n",
       "    <tr>\n",
       "      <th>1970-01-01 23:15:00</th>\n",
       "      <td>13.0</td>\n",
       "      <td>Thursday</td>\n",
       "    </tr>\n",
       "    <tr>\n",
       "      <th>1970-01-01 23:30:00</th>\n",
       "      <td>14.0</td>\n",
       "      <td>Thursday</td>\n",
       "    </tr>\n",
       "    <tr>\n",
       "      <th>1970-01-01 23:45:00</th>\n",
       "      <td>15.0</td>\n",
       "      <td>Thursday</td>\n",
       "    </tr>\n",
       "    <tr>\n",
       "      <th>1970-01-02 00:00:00</th>\n",
       "      <td>10.0</td>\n",
       "      <td>Friday</td>\n",
       "    </tr>\n",
       "    <tr>\n",
       "      <th>1970-01-02 00:15:00</th>\n",
       "      <td>18.0</td>\n",
       "      <td>Friday</td>\n",
       "    </tr>\n",
       "    <tr>\n",
       "      <th>1970-01-02 00:30:00</th>\n",
       "      <td>12.0</td>\n",
       "      <td>Friday</td>\n",
       "    </tr>\n",
       "    <tr>\n",
       "      <th>1970-01-02 00:45:00</th>\n",
       "      <td>13.0</td>\n",
       "      <td>Friday</td>\n",
       "    </tr>\n",
       "    <tr>\n",
       "      <th>1970-01-02 01:00:00</th>\n",
       "      <td>9.0</td>\n",
       "      <td>Friday</td>\n",
       "    </tr>\n",
       "    <tr>\n",
       "      <th>1970-01-02 01:15:00</th>\n",
       "      <td>8.0</td>\n",
       "      <td>Friday</td>\n",
       "    </tr>\n",
       "    <tr>\n",
       "      <th>1970-01-02 01:30:00</th>\n",
       "      <td>10.0</td>\n",
       "      <td>Friday</td>\n",
       "    </tr>\n",
       "    <tr>\n",
       "      <th>1970-01-02 01:45:00</th>\n",
       "      <td>6.0</td>\n",
       "      <td>Friday</td>\n",
       "    </tr>\n",
       "    <tr>\n",
       "      <th>1970-01-02 02:00:00</th>\n",
       "      <td>7.0</td>\n",
       "      <td>Friday</td>\n",
       "    </tr>\n",
       "    <tr>\n",
       "      <th>1970-01-02 02:15:00</th>\n",
       "      <td>18.0</td>\n",
       "      <td>Friday</td>\n",
       "    </tr>\n",
       "    <tr>\n",
       "      <th>1970-01-02 02:30:00</th>\n",
       "      <td>12.0</td>\n",
       "      <td>Friday</td>\n",
       "    </tr>\n",
       "    <tr>\n",
       "      <th>1970-01-02 02:45:00</th>\n",
       "      <td>6.0</td>\n",
       "      <td>Friday</td>\n",
       "    </tr>\n",
       "    <tr>\n",
       "      <th>1970-01-02 03:00:00</th>\n",
       "      <td>12.0</td>\n",
       "      <td>Friday</td>\n",
       "    </tr>\n",
       "    <tr>\n",
       "      <th>1970-01-02 03:15:00</th>\n",
       "      <td>5.0</td>\n",
       "      <td>Friday</td>\n",
       "    </tr>\n",
       "    <tr>\n",
       "      <th>...</th>\n",
       "      <td>...</td>\n",
       "      <td>...</td>\n",
       "    </tr>\n",
       "    <tr>\n",
       "      <th>1970-04-13 11:30:00</th>\n",
       "      <td>13.0</td>\n",
       "      <td>Monday</td>\n",
       "    </tr>\n",
       "    <tr>\n",
       "      <th>1970-04-13 11:45:00</th>\n",
       "      <td>7.0</td>\n",
       "      <td>Monday</td>\n",
       "    </tr>\n",
       "    <tr>\n",
       "      <th>1970-04-13 12:00:00</th>\n",
       "      <td>6.0</td>\n",
       "      <td>Monday</td>\n",
       "    </tr>\n",
       "    <tr>\n",
       "      <th>1970-04-13 12:15:00</th>\n",
       "      <td>11.0</td>\n",
       "      <td>Monday</td>\n",
       "    </tr>\n",
       "    <tr>\n",
       "      <th>1970-04-13 12:30:00</th>\n",
       "      <td>8.0</td>\n",
       "      <td>Monday</td>\n",
       "    </tr>\n",
       "    <tr>\n",
       "      <th>1970-04-13 12:45:00</th>\n",
       "      <td>11.0</td>\n",
       "      <td>Monday</td>\n",
       "    </tr>\n",
       "    <tr>\n",
       "      <th>1970-04-13 13:00:00</th>\n",
       "      <td>5.0</td>\n",
       "      <td>Monday</td>\n",
       "    </tr>\n",
       "    <tr>\n",
       "      <th>1970-04-13 13:15:00</th>\n",
       "      <td>4.0</td>\n",
       "      <td>Monday</td>\n",
       "    </tr>\n",
       "    <tr>\n",
       "      <th>1970-04-13 13:30:00</th>\n",
       "      <td>6.0</td>\n",
       "      <td>Monday</td>\n",
       "    </tr>\n",
       "    <tr>\n",
       "      <th>1970-04-13 13:45:00</th>\n",
       "      <td>5.0</td>\n",
       "      <td>Monday</td>\n",
       "    </tr>\n",
       "    <tr>\n",
       "      <th>1970-04-13 14:00:00</th>\n",
       "      <td>4.0</td>\n",
       "      <td>Monday</td>\n",
       "    </tr>\n",
       "    <tr>\n",
       "      <th>1970-04-13 14:15:00</th>\n",
       "      <td>8.0</td>\n",
       "      <td>Monday</td>\n",
       "    </tr>\n",
       "    <tr>\n",
       "      <th>1970-04-13 14:30:00</th>\n",
       "      <td>8.0</td>\n",
       "      <td>Monday</td>\n",
       "    </tr>\n",
       "    <tr>\n",
       "      <th>1970-04-13 14:45:00</th>\n",
       "      <td>12.0</td>\n",
       "      <td>Monday</td>\n",
       "    </tr>\n",
       "    <tr>\n",
       "      <th>1970-04-13 15:00:00</th>\n",
       "      <td>10.0</td>\n",
       "      <td>Monday</td>\n",
       "    </tr>\n",
       "    <tr>\n",
       "      <th>1970-04-13 15:15:00</th>\n",
       "      <td>4.0</td>\n",
       "      <td>Monday</td>\n",
       "    </tr>\n",
       "    <tr>\n",
       "      <th>1970-04-13 15:30:00</th>\n",
       "      <td>3.0</td>\n",
       "      <td>Monday</td>\n",
       "    </tr>\n",
       "    <tr>\n",
       "      <th>1970-04-13 15:45:00</th>\n",
       "      <td>2.0</td>\n",
       "      <td>Monday</td>\n",
       "    </tr>\n",
       "    <tr>\n",
       "      <th>1970-04-13 16:00:00</th>\n",
       "      <td>7.0</td>\n",
       "      <td>Monday</td>\n",
       "    </tr>\n",
       "    <tr>\n",
       "      <th>1970-04-13 16:15:00</th>\n",
       "      <td>8.0</td>\n",
       "      <td>Monday</td>\n",
       "    </tr>\n",
       "    <tr>\n",
       "      <th>1970-04-13 16:30:00</th>\n",
       "      <td>4.0</td>\n",
       "      <td>Monday</td>\n",
       "    </tr>\n",
       "    <tr>\n",
       "      <th>1970-04-13 16:45:00</th>\n",
       "      <td>3.0</td>\n",
       "      <td>Monday</td>\n",
       "    </tr>\n",
       "    <tr>\n",
       "      <th>1970-04-13 17:00:00</th>\n",
       "      <td>5.0</td>\n",
       "      <td>Monday</td>\n",
       "    </tr>\n",
       "    <tr>\n",
       "      <th>1970-04-13 17:15:00</th>\n",
       "      <td>3.0</td>\n",
       "      <td>Monday</td>\n",
       "    </tr>\n",
       "    <tr>\n",
       "      <th>1970-04-13 17:30:00</th>\n",
       "      <td>9.0</td>\n",
       "      <td>Monday</td>\n",
       "    </tr>\n",
       "    <tr>\n",
       "      <th>1970-04-13 17:45:00</th>\n",
       "      <td>5.0</td>\n",
       "      <td>Monday</td>\n",
       "    </tr>\n",
       "    <tr>\n",
       "      <th>1970-04-13 18:00:00</th>\n",
       "      <td>5.0</td>\n",
       "      <td>Monday</td>\n",
       "    </tr>\n",
       "    <tr>\n",
       "      <th>1970-04-13 18:15:00</th>\n",
       "      <td>2.0</td>\n",
       "      <td>Monday</td>\n",
       "    </tr>\n",
       "    <tr>\n",
       "      <th>1970-04-13 18:30:00</th>\n",
       "      <td>7.0</td>\n",
       "      <td>Monday</td>\n",
       "    </tr>\n",
       "    <tr>\n",
       "      <th>1970-04-13 18:45:00</th>\n",
       "      <td>6.0</td>\n",
       "      <td>Monday</td>\n",
       "    </tr>\n",
       "  </tbody>\n",
       "</table>\n",
       "<p>9788 rows × 2 columns</p>\n",
       "</div>"
      ],
      "text/plain": [
       "                     Counts Day of Week\n",
       "1970-01-01 20:00:00     2.0    Thursday\n",
       "1970-01-01 20:15:00     6.0    Thursday\n",
       "1970-01-01 20:30:00     9.0    Thursday\n",
       "1970-01-01 20:45:00     7.0    Thursday\n",
       "1970-01-01 21:00:00     1.0    Thursday\n",
       "1970-01-01 21:15:00     4.0    Thursday\n",
       "1970-01-01 21:30:00     0.0    Thursday\n",
       "1970-01-01 21:45:00     4.0    Thursday\n",
       "1970-01-01 22:00:00     9.0    Thursday\n",
       "1970-01-01 22:15:00     8.0    Thursday\n",
       "1970-01-01 22:30:00     1.0    Thursday\n",
       "1970-01-01 22:45:00     3.0    Thursday\n",
       "1970-01-01 23:00:00    16.0    Thursday\n",
       "1970-01-01 23:15:00    13.0    Thursday\n",
       "1970-01-01 23:30:00    14.0    Thursday\n",
       "1970-01-01 23:45:00    15.0    Thursday\n",
       "1970-01-02 00:00:00    10.0      Friday\n",
       "1970-01-02 00:15:00    18.0      Friday\n",
       "1970-01-02 00:30:00    12.0      Friday\n",
       "1970-01-02 00:45:00    13.0      Friday\n",
       "1970-01-02 01:00:00     9.0      Friday\n",
       "1970-01-02 01:15:00     8.0      Friday\n",
       "1970-01-02 01:30:00    10.0      Friday\n",
       "1970-01-02 01:45:00     6.0      Friday\n",
       "1970-01-02 02:00:00     7.0      Friday\n",
       "1970-01-02 02:15:00    18.0      Friday\n",
       "1970-01-02 02:30:00    12.0      Friday\n",
       "1970-01-02 02:45:00     6.0      Friday\n",
       "1970-01-02 03:00:00    12.0      Friday\n",
       "1970-01-02 03:15:00     5.0      Friday\n",
       "...                     ...         ...\n",
       "1970-04-13 11:30:00    13.0      Monday\n",
       "1970-04-13 11:45:00     7.0      Monday\n",
       "1970-04-13 12:00:00     6.0      Monday\n",
       "1970-04-13 12:15:00    11.0      Monday\n",
       "1970-04-13 12:30:00     8.0      Monday\n",
       "1970-04-13 12:45:00    11.0      Monday\n",
       "1970-04-13 13:00:00     5.0      Monday\n",
       "1970-04-13 13:15:00     4.0      Monday\n",
       "1970-04-13 13:30:00     6.0      Monday\n",
       "1970-04-13 13:45:00     5.0      Monday\n",
       "1970-04-13 14:00:00     4.0      Monday\n",
       "1970-04-13 14:15:00     8.0      Monday\n",
       "1970-04-13 14:30:00     8.0      Monday\n",
       "1970-04-13 14:45:00    12.0      Monday\n",
       "1970-04-13 15:00:00    10.0      Monday\n",
       "1970-04-13 15:15:00     4.0      Monday\n",
       "1970-04-13 15:30:00     3.0      Monday\n",
       "1970-04-13 15:45:00     2.0      Monday\n",
       "1970-04-13 16:00:00     7.0      Monday\n",
       "1970-04-13 16:15:00     8.0      Monday\n",
       "1970-04-13 16:30:00     4.0      Monday\n",
       "1970-04-13 16:45:00     3.0      Monday\n",
       "1970-04-13 17:00:00     5.0      Monday\n",
       "1970-04-13 17:15:00     3.0      Monday\n",
       "1970-04-13 17:30:00     9.0      Monday\n",
       "1970-04-13 17:45:00     5.0      Monday\n",
       "1970-04-13 18:00:00     5.0      Monday\n",
       "1970-04-13 18:15:00     2.0      Monday\n",
       "1970-04-13 18:30:00     7.0      Monday\n",
       "1970-04-13 18:45:00     6.0      Monday\n",
       "\n",
       "[9788 rows x 2 columns]"
      ]
     },
     "execution_count": 18,
     "metadata": {},
     "output_type": "execute_result"
    }
   ],
   "source": [
    "dr"
   ]
  },
  {
   "cell_type": "code",
   "execution_count": 19,
   "metadata": {
    "collapsed": true
   },
   "outputs": [],
   "source": [
    "ref = dr.groupby('Day of Week',sort=False).mean()\n",
    "#ref = dr.groupby('Day of Week',sort=False).sum()\n",
    "#the means seem way too low.  weird because sum seems to make more sense"
   ]
  },
  {
   "cell_type": "code",
   "execution_count": 20,
   "metadata": {},
   "outputs": [
    {
     "data": {
      "text/html": [
       "<div>\n",
       "<style>\n",
       "    .dataframe thead tr:only-child th {\n",
       "        text-align: right;\n",
       "    }\n",
       "\n",
       "    .dataframe thead th {\n",
       "        text-align: left;\n",
       "    }\n",
       "\n",
       "    .dataframe tbody tr th {\n",
       "        vertical-align: top;\n",
       "    }\n",
       "</style>\n",
       "<table border=\"1\" class=\"dataframe\">\n",
       "  <thead>\n",
       "    <tr style=\"text-align: right;\">\n",
       "      <th></th>\n",
       "      <th>Counts</th>\n",
       "    </tr>\n",
       "    <tr>\n",
       "      <th>Day of Week</th>\n",
       "      <th></th>\n",
       "    </tr>\n",
       "  </thead>\n",
       "  <tbody>\n",
       "    <tr>\n",
       "      <th>Friday</th>\n",
       "      <td>15208.0</td>\n",
       "    </tr>\n",
       "    <tr>\n",
       "      <th>Monday</th>\n",
       "      <td>8823.0</td>\n",
       "    </tr>\n",
       "    <tr>\n",
       "      <th>Saturday</th>\n",
       "      <td>19377.0</td>\n",
       "    </tr>\n",
       "    <tr>\n",
       "      <th>Sunday</th>\n",
       "      <td>18167.0</td>\n",
       "    </tr>\n",
       "    <tr>\n",
       "      <th>Thursday</th>\n",
       "      <td>11960.0</td>\n",
       "    </tr>\n",
       "    <tr>\n",
       "      <th>Tuesday</th>\n",
       "      <td>9268.0</td>\n",
       "    </tr>\n",
       "    <tr>\n",
       "      <th>Wednesday</th>\n",
       "      <td>10339.0</td>\n",
       "    </tr>\n",
       "  </tbody>\n",
       "</table>\n",
       "</div>"
      ],
      "text/plain": [
       "              Counts\n",
       "Day of Week         \n",
       "Friday       15208.0\n",
       "Monday        8823.0\n",
       "Saturday     19377.0\n",
       "Sunday       18167.0\n",
       "Thursday     11960.0\n",
       "Tuesday       9268.0\n",
       "Wednesday    10339.0"
      ]
     },
     "execution_count": 20,
     "metadata": {},
     "output_type": "execute_result"
    }
   ],
   "source": [
    "dr.groupby('Day of Week').sum()"
   ]
  },
  {
   "cell_type": "code",
   "execution_count": 21,
   "metadata": {},
   "outputs": [
    {
     "data": {
      "text/plain": [
       "Text(0,0.5,u'Average Logins per Day')"
      ]
     },
     "execution_count": 21,
     "metadata": {},
     "output_type": "execute_result"
    },
    {
     "data": {
      "image/png": "[encoded data removed]",
      "text/plain": [
       "<matplotlib.figure.Figure at 0xd37aba8>"
      ]
     },
     "metadata": {},
     "output_type": "display_data"
    }
   ],
   "source": [
    "dr.groupby('Day of Week',sort=False).mean().plot(kind='bar')\n",
    "plt.ylabel('Average Logins per Day')\n",
    "#these counts are way too low"
   ]
  },
  {
   "cell_type": "code",
   "execution_count": 22,
   "metadata": {},
   "outputs": [
    {
     "data": {
      "text/plain": [
       "<matplotlib.axes._subplots.AxesSubplot at 0xc1bf2b0>"
      ]
     },
     "execution_count": 22,
     "metadata": {},
     "output_type": "execute_result"
    },
    {
     "data": {
      "image/png": "[encoded data removed]",
      "text/plain": [
       "<matplotlib.figure.Figure at 0xbf8c9b0>"
      ]
     },
     "metadata": {},
     "output_type": "display_data"
    }
   ],
   "source": [
    "referee = ref.iloc[4:]\n",
    "eazy = referee.append(ref.iloc[:4])\n",
    "eazy.plot(kind='bar')"
   ]
  },
  {
   "cell_type": "markdown",
   "metadata": {},
   "source": [
    "Logins are lowest on Monday and grow steadily until Saturday.  On Sunday they dip slightly."
   ]
  },
  {
   "cell_type": "code",
   "execution_count": 23,
   "metadata": {
    "scrolled": true
   },
   "outputs": [
    {
     "data": {
      "text/plain": [
       "1970-01-01 20:00:00    24.0\n",
       "1970-01-01 21:00:00     9.0\n",
       "1970-01-01 22:00:00    21.0\n",
       "1970-01-01 23:00:00    58.0\n",
       "1970-01-02 00:00:00    53.0\n",
       "Freq: H, dtype: float64"
      ]
     },
     "execution_count": 23,
     "metadata": {},
     "output_type": "execute_result"
    }
   ],
   "source": [
    "dk = dx.resample('H').sum()\n",
    "dk.head()"
   ]
  },
  {
   "cell_type": "code",
   "execution_count": 24,
   "metadata": {},
   "outputs": [
    {
     "data": {
      "text/plain": [
       "Text(0,0.5,u'Average Logins per Hour')"
      ]
     },
     "execution_count": 24,
     "metadata": {},
     "output_type": "execute_result"
    },
    {
     "data": {
      "image/png": "[encoded data removed]",
      "text/plain": [
       "<matplotlib.figure.Figure at 0xc3d9c18>"
      ]
     },
     "metadata": {},
     "output_type": "display_data"
    }
   ],
   "source": [
    "dk.groupby(dk.index.hour).mean().plot(kind='bar')\n",
    "plt.xlabel('Hour'); plt.ylabel('Average Logins per Hour')"
   ]
  },
  {
   "cell_type": "markdown",
   "metadata": {},
   "source": [
    "Between the hours of 6-10 AM is a dead time.  This would suggest that ultimate users do not get rides to work and prefer other methods of transportation. Uber logins then peak during the lunch hour before dropping to a local minimum at 5 PM.  Again we see that users would rather take other modes of transportation for work commutes.  Starting at 5, logins grow rapidly before rapidly, reaching the daily peak between the hours of 10 PM to 3 AM. The data provides a nice visualization of the unspoken rule that its ok to drink after 5 PM.  One major motivation for users to call an Ultimate car is because they plan on drinking.  As the night goes on people are less willing to take public transportation or the bus/train stops running and they prefer to take Ultimate rides.  This fits with logins growing over the course of the weak and peaking on Saturday."
   ]
  },
  {
   "cell_type": "markdown",
   "metadata": {},
   "source": [
    " What would    you     choose     as     the     key    measure    of     success    of     this    experiment     in  encouraging    driver     partners     to     serve    both     cities,    and    why    would     you     choose     this    metric?  "
   ]
  },
  {
   "cell_type": "markdown",
   "metadata": {},
   "source": [
    "I would measure the percentage increase in rides starting in one city and ending in another.  Since the addresses of these two locations are stored it should not be hard to detect a bay crossing and calculate a weekly or monthly average.  Once the system is in place tracking bay crossing would be as easy as counting the length of list of reimbursements or using addresses again."
   ]
  },
  {
   "cell_type": "markdown",
   "metadata": {
    "collapsed": true
   },
   "source": [
    "Possible confounding variables:  There may be underlying cycle in demand from month to month that need to be controlled for.  Daily and Weekly demand cycles are controlled for by selecting a trial period of several weeks.  First lets see if there is a monthly cycle to worry about.  The number of days in the month"
   ]
  },
  {
   "cell_type": "code",
   "execution_count": 73,
   "metadata": {},
   "outputs": [
    {
     "data": {
      "text/plain": [
       "<matplotlib.axes._subplots.AxesSubplot at 0x118d3470>"
      ]
     },
     "execution_count": 73,
     "metadata": {},
     "output_type": "execute_result"
    },
    {
     "data": {
      "image/png": "[encoded data removed]",
      "text/plain": [
       "<matplotlib.figure.Figure at 0x118e74e0>"
      ]
     },
     "metadata": {},
     "output_type": "display_data"
    }
   ],
   "source": [
    "dx.resample('M').sum().plot()"
   ]
  },
  {
   "cell_type": "code",
   "execution_count": 74,
   "metadata": {},
   "outputs": [
    {
     "data": {
      "text/plain": [
       "1970-04-13 17:45:00    5.0\n",
       "1970-04-13 18:00:00    5.0\n",
       "1970-04-13 18:15:00    2.0\n",
       "1970-04-13 18:30:00    7.0\n",
       "1970-04-13 18:45:00    6.0\n",
       "Freq: 15T, dtype: float64"
      ]
     },
     "execution_count": 74,
     "metadata": {},
     "output_type": "execute_result"
    }
   ],
   "source": [
    "dx.tail()\n",
    "# Ok heres the data quality issue part.  The data ends halfway through April on the 13th"
   ]
  },
  {
   "cell_type": "markdown",
   "metadata": {},
   "source": [
    "Data Quality Issues: The data begins at 20:00 on the first of January but ends at 18:45 on April 13.  This must be corrected for or April numbers will very small.  I do not have enough data to track monthly demand cycles"
   ]
  },
  {
   "cell_type": "markdown",
   "metadata": {
    "collapsed": true
   },
   "source": [
    "The Experiment: The experiment will use data recorded from four weeks of Ultimate service.  The first two weeks no bridge reimbursement will be offered and they will be offered in the final two weeks.  A time period of at least a week is required to avoid complications from weekly demand cycles.  As we have seen demands grows over the course of a week and differences in logins would be confounded by this cycle if we dont make the test period at least two weeks.  By doubling that period we also remove confounding variables such as holiday like Halloween, Cinco de Mayo etc where drinking is more common on weekdays.  Ideally these periods would alternate such that reimbursements were given on the 2nd and 4th week and not the 1st and 3rd in order to account for monthly demand cycles but this approach would anger drivers and impede the word-of-mouth spread of this new program.\n",
    "\n",
    "Ultimate has a database that records the origin and destination of each Ultimate ride, and it would not be difficult to query this database to find rides originating at a Gotham address and ending at a Metropolis address or vice verse.  Once I had the correct rows of the database I would look at the total amount netted by Ultimate from these rides.  The two phases of the experiment are both 14 days long, starting on Monday and concluding on Sunday, so looking at total net income from trans-bay rides is equivalent looking at averages.  Tracking total trans-bay rides is a good way to measure if the program incentivizes drives but looking at profit demonstrates whether the program is worth it for Ultimate.\n",
    "\n",
    "Statistical Significance: The standard alpha value of .5 seems sufficient here.  I would assume the null hypothesis that reimbursement has no effect on total profit from Ultimate rides and compute the probability that the observed difference in total rides occurs. I can calculate the standard deviation of net income for two year periods going back a year\n",
    "\n",
    "Interpretation: If the p-value was significant I would report that the reimbursement program was, in fact making a difference.  I would report how much additional income the reimbursement had brought Ultimate as a percentage of the total earnings, to show how significant a difference the program makes.  If the program nets a tiny portion of total income, its more trouble than its worth, and if its larger than I would recommend the program continue.\n",
    "\n",
    "Another interesting thing to look at would be growth of the program over phase 2 of the experiment.  If there is large growth in the number of drives taking advantage of the program over phase 2 that would demonstrate that advertising of the new program is necessary.  This would require calculating increase in net profit relative to advertising costs."
   ]
  }
 ],
 "metadata": {
  "kernelspec": {
   "display_name": "Python 2",
   "language": "python",
   "name": "python2"
  },
  "language_info": {
   "codemirror_mode": {
    "name": "ipython",
    "version": 2
   },
   "file_extension": ".py",
   "mimetype": "text/x-python",
   "name": "python",
   "nbconvert_exporter": "python",
   "pygments_lexer": "ipython2",
   "version": "2.7.13"
  }
 },
 "nbformat": 4,
 "nbformat_minor": 2
}
